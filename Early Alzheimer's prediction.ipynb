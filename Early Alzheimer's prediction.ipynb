{
 "cells": [
  {
   "cell_type": "code",
   "execution_count": 1,
   "metadata": {},
   "outputs": [
    {
     "data": {
      "text/html": [
       "<div>\n",
       "<style scoped>\n",
       "    .dataframe tbody tr th:only-of-type {\n",
       "        vertical-align: middle;\n",
       "    }\n",
       "\n",
       "    .dataframe tbody tr th {\n",
       "        vertical-align: top;\n",
       "    }\n",
       "\n",
       "    .dataframe thead th {\n",
       "        text-align: right;\n",
       "    }\n",
       "</style>\n",
       "<table border=\"1\" class=\"dataframe\">\n",
       "  <thead>\n",
       "    <tr style=\"text-align: right;\">\n",
       "      <th></th>\n",
       "      <th>Subject ID</th>\n",
       "      <th>MRI ID</th>\n",
       "      <th>Group</th>\n",
       "      <th>Visit</th>\n",
       "      <th>MR Delay</th>\n",
       "      <th>M/F</th>\n",
       "      <th>Hand</th>\n",
       "      <th>Age</th>\n",
       "      <th>EDUC</th>\n",
       "      <th>SES</th>\n",
       "      <th>MMSE</th>\n",
       "      <th>CDR</th>\n",
       "      <th>eTIV</th>\n",
       "      <th>nWBV</th>\n",
       "      <th>ASF</th>\n",
       "    </tr>\n",
       "  </thead>\n",
       "  <tbody>\n",
       "    <tr>\n",
       "      <th>0</th>\n",
       "      <td>OAS2_0001</td>\n",
       "      <td>OAS2_0001_MR1</td>\n",
       "      <td>Nondemented</td>\n",
       "      <td>1</td>\n",
       "      <td>0</td>\n",
       "      <td>M</td>\n",
       "      <td>R</td>\n",
       "      <td>87</td>\n",
       "      <td>14</td>\n",
       "      <td>2.0</td>\n",
       "      <td>27.0</td>\n",
       "      <td>0.0</td>\n",
       "      <td>1987</td>\n",
       "      <td>0.696</td>\n",
       "      <td>0.883</td>\n",
       "    </tr>\n",
       "    <tr>\n",
       "      <th>1</th>\n",
       "      <td>OAS2_0001</td>\n",
       "      <td>OAS2_0001_MR2</td>\n",
       "      <td>Nondemented</td>\n",
       "      <td>2</td>\n",
       "      <td>457</td>\n",
       "      <td>M</td>\n",
       "      <td>R</td>\n",
       "      <td>88</td>\n",
       "      <td>14</td>\n",
       "      <td>2.0</td>\n",
       "      <td>30.0</td>\n",
       "      <td>0.0</td>\n",
       "      <td>2004</td>\n",
       "      <td>0.681</td>\n",
       "      <td>0.876</td>\n",
       "    </tr>\n",
       "    <tr>\n",
       "      <th>2</th>\n",
       "      <td>OAS2_0002</td>\n",
       "      <td>OAS2_0002_MR1</td>\n",
       "      <td>Demented</td>\n",
       "      <td>1</td>\n",
       "      <td>0</td>\n",
       "      <td>M</td>\n",
       "      <td>R</td>\n",
       "      <td>75</td>\n",
       "      <td>12</td>\n",
       "      <td>NaN</td>\n",
       "      <td>23.0</td>\n",
       "      <td>0.5</td>\n",
       "      <td>1678</td>\n",
       "      <td>0.736</td>\n",
       "      <td>1.046</td>\n",
       "    </tr>\n",
       "    <tr>\n",
       "      <th>3</th>\n",
       "      <td>OAS2_0002</td>\n",
       "      <td>OAS2_0002_MR2</td>\n",
       "      <td>Demented</td>\n",
       "      <td>2</td>\n",
       "      <td>560</td>\n",
       "      <td>M</td>\n",
       "      <td>R</td>\n",
       "      <td>76</td>\n",
       "      <td>12</td>\n",
       "      <td>NaN</td>\n",
       "      <td>28.0</td>\n",
       "      <td>0.5</td>\n",
       "      <td>1738</td>\n",
       "      <td>0.713</td>\n",
       "      <td>1.010</td>\n",
       "    </tr>\n",
       "    <tr>\n",
       "      <th>4</th>\n",
       "      <td>OAS2_0002</td>\n",
       "      <td>OAS2_0002_MR3</td>\n",
       "      <td>Demented</td>\n",
       "      <td>3</td>\n",
       "      <td>1895</td>\n",
       "      <td>M</td>\n",
       "      <td>R</td>\n",
       "      <td>80</td>\n",
       "      <td>12</td>\n",
       "      <td>NaN</td>\n",
       "      <td>22.0</td>\n",
       "      <td>0.5</td>\n",
       "      <td>1698</td>\n",
       "      <td>0.701</td>\n",
       "      <td>1.034</td>\n",
       "    </tr>\n",
       "  </tbody>\n",
       "</table>\n",
       "</div>"
      ],
      "text/plain": [
       "  Subject ID         MRI ID        Group  Visit  MR Delay M/F Hand  Age  EDUC  \\\n",
       "0  OAS2_0001  OAS2_0001_MR1  Nondemented      1         0   M    R   87    14   \n",
       "1  OAS2_0001  OAS2_0001_MR2  Nondemented      2       457   M    R   88    14   \n",
       "2  OAS2_0002  OAS2_0002_MR1     Demented      1         0   M    R   75    12   \n",
       "3  OAS2_0002  OAS2_0002_MR2     Demented      2       560   M    R   76    12   \n",
       "4  OAS2_0002  OAS2_0002_MR3     Demented      3      1895   M    R   80    12   \n",
       "\n",
       "   SES  MMSE  CDR  eTIV   nWBV    ASF  \n",
       "0  2.0  27.0  0.0  1987  0.696  0.883  \n",
       "1  2.0  30.0  0.0  2004  0.681  0.876  \n",
       "2  NaN  23.0  0.5  1678  0.736  1.046  \n",
       "3  NaN  28.0  0.5  1738  0.713  1.010  \n",
       "4  NaN  22.0  0.5  1698  0.701  1.034  "
      ]
     },
     "execution_count": 1,
     "metadata": {},
     "output_type": "execute_result"
    }
   ],
   "source": [
    "import pandas as pd\n",
    "import numpy as np\n",
    "import seaborn as sns\n",
    "import matplotlib.pyplot as plt\n",
    "%matplotlib inline\n",
    "\n",
    "sns.set()\n",
    "\n",
    "df = pd.read_csv('oasis_longitudinal.csv')\n",
    "df.head()"
   ]
  },
  {
   "cell_type": "code",
   "execution_count": 2,
   "metadata": {},
   "outputs": [
    {
     "data": {
      "text/plain": [
       "(373, 15)"
      ]
     },
     "execution_count": 2,
     "metadata": {},
     "output_type": "execute_result"
    }
   ],
   "source": [
    "df.shape"
   ]
  },
  {
   "cell_type": "code",
   "execution_count": 3,
   "metadata": {},
   "outputs": [],
   "source": [
    "df = df.loc[df['Visit']==1] # use first visit data only because of the analysis we're doing\n",
    "df = df.reset_index(drop=True) # reset index after filtering first visit data\n",
    "df['M/F'] = df['M/F'].replace(['F','M'], [0,1]) # M/F column\n",
    "df['Group'] = df['Group'].replace(['Converted'], ['Demented']) # Target variable\n",
    "df['Group'] = df['Group'].replace(['Demented', 'Nondemented'], [1,0]) # Target variable\n",
    "df = df.drop(['MRI ID', 'Visit', 'Hand'], axis=1) # Drop unnecessary columns"
   ]
  },
  {
   "cell_type": "code",
   "execution_count": 4,
   "metadata": {},
   "outputs": [],
   "source": [
    "# bar drawing function\n",
    "def bar_chart(feature):\n",
    "    Demented = df[df['Group']==1][feature].value_counts()\n",
    "    Nondemented = df[df['Group']==0][feature].value_counts()\n",
    "    df_bar = pd.DataFrame([Demented,Nondemented])\n",
    "    df_bar.index = ['Demented','Nondemented']\n",
    "    df_bar.plot(kind='bar',stacked=True, figsize=(8,5))"
   ]
  },
  {
   "cell_type": "code",
   "execution_count": 6,
   "metadata": {},
   "outputs": [
    {
     "data": {
      "text/plain": [
       "(15.3, 30.0)"
      ]
     },
     "execution_count": 6,
     "metadata": {},
     "output_type": "execute_result"
    },
    {
     "data": {
      "image/png": "[encoded data removed]",
      "text/plain": [
       "<Figure size 689.625x216 with 1 Axes>"
      ]
     },
     "metadata": {},
     "output_type": "display_data"
    }
   ],
   "source": [
    "\n",
    "facet= sns.FacetGrid(df,hue=\"Group\", aspect=3)\n",
    "facet.map(sns.kdeplot,'MMSE',shade= True)\n",
    "facet.set(xlim=(0, df['MMSE'].max()))\n",
    "facet.add_legend()\n",
    "plt.xlim(15.30)\n"
   ]
  },
  {
   "cell_type": "code",
   "execution_count": 7,
   "metadata": {},
   "outputs": [
    {
     "data": {
      "text/plain": [
       "(0.6, 0.9)"
      ]
     },
     "execution_count": 7,
     "metadata": {},
     "output_type": "execute_result"
    },
    {
     "data": {
      "image/png": "[encoded data removed]",
      "text/plain": [
       "<Figure size 689.625x216 with 1 Axes>"
      ]
     },
     "metadata": {},
     "output_type": "display_data"
    },
    {
     "data": {
      "image/png": "[encoded data removed]",
      "text/plain": [
       "<Figure size 689.625x216 with 1 Axes>"
      ]
     },
     "metadata": {},
     "output_type": "display_data"
    },
    {
     "data": {
      "image/png": "[encoded data removed]",
      "text/plain": [
       "<Figure size 689.625x216 with 1 Axes>"
      ]
     },
     "metadata": {},
     "output_type": "display_data"
    }
   ],
   "source": [
    "#bar_chart('ASF') = Atlas Scaling Factor\n",
    "facet= sns.FacetGrid(df,hue=\"Group\", aspect=3)\n",
    "facet.map(sns.kdeplot,'ASF',shade= True)\n",
    "facet.set(xlim=(0, df['ASF'].max()))\n",
    "facet.add_legend()\n",
    "plt.xlim(0.5, 2)\n",
    "\n",
    "#eTIV = Estimated Total Intracranial Volume\n",
    "facet= sns.FacetGrid(df,hue=\"Group\", aspect=3)\n",
    "facet.map(sns.kdeplot,'eTIV',shade= True)\n",
    "facet.set(xlim=(0, df['eTIV'].max()))\n",
    "facet.add_legend()\n",
    "plt.xlim(900, 2100)\n",
    "\n",
    "#'nWBV' = Normalized Whole Brain Volume\n",
    "# Nondemented = 0, Demented =1\n",
    "facet= sns.FacetGrid(df,hue=\"Group\", aspect=3)\n",
    "facet.map(sns.kdeplot,'nWBV',shade= True)\n",
    "facet.set(xlim=(0, df['nWBV'].max()))\n",
    "facet.add_legend()\n",
    "plt.xlim(0.6,0.9)\n",
    "\n",
    "#The chart indicates that Nondemented group has higher brain volume ratio than Demented group. This is assumed to be because the diseases affect the brain to be shrinking its tissue. "
   ]
  },
  {
   "cell_type": "code",
   "execution_count": 8,
   "metadata": {},
   "outputs": [
    {
     "data": {
      "text/plain": [
       "(50, 100)"
      ]
     },
     "execution_count": 8,
     "metadata": {},
     "output_type": "execute_result"
    },
    {
     "data": {
      "image/png": "[encoded data removed]",
      "text/plain": [
       "<Figure size 689.625x216 with 1 Axes>"
      ]
     },
     "metadata": {},
     "output_type": "display_data"
    }
   ],
   "source": [
    "#AGE. Nondemented =0, Demented =1\n",
    "facet= sns.FacetGrid(df,hue=\"Group\", aspect=3)\n",
    "facet.map(sns.kdeplot,'Age',shade= True)\n",
    "facet.set(xlim=(0, df['Age'].max()))\n",
    "facet.add_legend()\n",
    "plt.xlim(50,100)\n",
    "\n",
    "#There is a higher concentration of 70-80 years old in the Demented patient group than those in the nondemented patients.\n",
    "#We guess patients who suffered from that kind of disease has lower survival rate so that there are a few of 90 years old."
   ]
  },
  {
   "cell_type": "code",
   "execution_count": 9,
   "metadata": {},
   "outputs": [
    {
     "data": {
      "text/plain": [
       "(0, 0.16)"
      ]
     },
     "execution_count": 9,
     "metadata": {},
     "output_type": "execute_result"
    },
    {
     "data": {
      "image/png": "[encoded data removed]",
      "text/plain": [
       "<Figure size 689.625x216 with 1 Axes>"
      ]
     },
     "metadata": {},
     "output_type": "display_data"
    }
   ],
   "source": [
    "#'EDUC' = Years of Education\n",
    "# Nondemented = 0, Demented =1\n",
    "facet= sns.FacetGrid(df,hue=\"Group\", aspect=3)\n",
    "facet.map(sns.kdeplot,'EDUC',shade= True)\n",
    "facet.set(xlim=(df['EDUC'].min(), df['EDUC'].max()))\n",
    "facet.add_legend()\n",
    "plt.ylim(0, 0.16)"
   ]
  },
  {
   "cell_type": "code",
   "execution_count": 11,
   "metadata": {},
   "outputs": [
    {
     "data": {
      "text/plain": [
       "EDUC\n",
       "6     4.0\n",
       "8     5.0\n",
       "11    4.0\n",
       "12    3.0\n",
       "13    2.0\n",
       "14    3.0\n",
       "15    2.0\n",
       "16    2.0\n",
       "17    1.0\n",
       "18    2.0\n",
       "20    1.0\n",
       "23    1.0\n",
       "Name: SES, dtype: float64"
      ]
     },
     "execution_count": 11,
     "metadata": {},
     "output_type": "execute_result"
    }
   ],
   "source": [
    "df.groupby(['EDUC'])['SES'].median()"
   ]
  },
  {
   "cell_type": "code",
   "execution_count": 12,
   "metadata": {},
   "outputs": [],
   "source": [
    "df[\"SES\"].fillna(df.groupby(\"EDUC\")[\"SES\"].transform(\"median\"), inplace=True)"
   ]
  },
  {
   "cell_type": "code",
   "execution_count": 13,
   "metadata": {},
   "outputs": [
    {
     "data": {
      "text/plain": [
       "False    150\n",
       "Name: SES, dtype: int64"
      ]
     },
     "execution_count": 13,
     "metadata": {},
     "output_type": "execute_result"
    }
   ],
   "source": [
    "# I confirm there're no more missing values and all the 150 data were used.\n",
    "pd.isnull(df['SES']).value_counts()"
   ]
  },
  {
   "cell_type": "code",
   "execution_count": 14,
   "metadata": {},
   "outputs": [
    {
     "data": {
      "text/html": [
       "<div>\n",
       "<style scoped>\n",
       "    .dataframe tbody tr th:only-of-type {\n",
       "        vertical-align: middle;\n",
       "    }\n",
       "\n",
       "    .dataframe tbody tr th {\n",
       "        vertical-align: top;\n",
       "    }\n",
       "\n",
       "    .dataframe thead th {\n",
       "        text-align: right;\n",
       "    }\n",
       "</style>\n",
       "<table border=\"1\" class=\"dataframe\">\n",
       "  <thead>\n",
       "    <tr style=\"text-align: right;\">\n",
       "      <th></th>\n",
       "      <th>Subject ID</th>\n",
       "      <th>Group</th>\n",
       "      <th>MR Delay</th>\n",
       "      <th>M/F</th>\n",
       "      <th>Age</th>\n",
       "      <th>EDUC</th>\n",
       "      <th>SES</th>\n",
       "      <th>MMSE</th>\n",
       "      <th>CDR</th>\n",
       "      <th>eTIV</th>\n",
       "      <th>nWBV</th>\n",
       "      <th>ASF</th>\n",
       "    </tr>\n",
       "  </thead>\n",
       "  <tbody>\n",
       "    <tr>\n",
       "      <th>0</th>\n",
       "      <td>OAS2_0001</td>\n",
       "      <td>0</td>\n",
       "      <td>0</td>\n",
       "      <td>1</td>\n",
       "      <td>87</td>\n",
       "      <td>14</td>\n",
       "      <td>2.0</td>\n",
       "      <td>27.0</td>\n",
       "      <td>0.0</td>\n",
       "      <td>1987</td>\n",
       "      <td>0.696</td>\n",
       "      <td>0.883</td>\n",
       "    </tr>\n",
       "    <tr>\n",
       "      <th>1</th>\n",
       "      <td>OAS2_0002</td>\n",
       "      <td>1</td>\n",
       "      <td>0</td>\n",
       "      <td>1</td>\n",
       "      <td>75</td>\n",
       "      <td>12</td>\n",
       "      <td>3.0</td>\n",
       "      <td>23.0</td>\n",
       "      <td>0.5</td>\n",
       "      <td>1678</td>\n",
       "      <td>0.736</td>\n",
       "      <td>1.046</td>\n",
       "    </tr>\n",
       "    <tr>\n",
       "      <th>2</th>\n",
       "      <td>OAS2_0004</td>\n",
       "      <td>0</td>\n",
       "      <td>0</td>\n",
       "      <td>0</td>\n",
       "      <td>88</td>\n",
       "      <td>18</td>\n",
       "      <td>3.0</td>\n",
       "      <td>28.0</td>\n",
       "      <td>0.0</td>\n",
       "      <td>1215</td>\n",
       "      <td>0.710</td>\n",
       "      <td>1.444</td>\n",
       "    </tr>\n",
       "    <tr>\n",
       "      <th>3</th>\n",
       "      <td>OAS2_0005</td>\n",
       "      <td>0</td>\n",
       "      <td>0</td>\n",
       "      <td>1</td>\n",
       "      <td>80</td>\n",
       "      <td>12</td>\n",
       "      <td>4.0</td>\n",
       "      <td>28.0</td>\n",
       "      <td>0.0</td>\n",
       "      <td>1689</td>\n",
       "      <td>0.712</td>\n",
       "      <td>1.039</td>\n",
       "    </tr>\n",
       "    <tr>\n",
       "      <th>4</th>\n",
       "      <td>OAS2_0007</td>\n",
       "      <td>1</td>\n",
       "      <td>0</td>\n",
       "      <td>1</td>\n",
       "      <td>71</td>\n",
       "      <td>16</td>\n",
       "      <td>2.0</td>\n",
       "      <td>28.0</td>\n",
       "      <td>0.5</td>\n",
       "      <td>1357</td>\n",
       "      <td>0.748</td>\n",
       "      <td>1.293</td>\n",
       "    </tr>\n",
       "  </tbody>\n",
       "</table>\n",
       "</div>"
      ],
      "text/plain": [
       "  Subject ID  Group  MR Delay  M/F  Age  EDUC  SES  MMSE  CDR  eTIV   nWBV  \\\n",
       "0  OAS2_0001      0         0    1   87    14  2.0  27.0  0.0  1987  0.696   \n",
       "1  OAS2_0002      1         0    1   75    12  3.0  23.0  0.5  1678  0.736   \n",
       "2  OAS2_0004      0         0    0   88    18  3.0  28.0  0.0  1215  0.710   \n",
       "3  OAS2_0005      0         0    1   80    12  4.0  28.0  0.0  1689  0.712   \n",
       "4  OAS2_0007      1         0    1   71    16  2.0  28.0  0.5  1357  0.748   \n",
       "\n",
       "     ASF  \n",
       "0  0.883  \n",
       "1  1.046  \n",
       "2  1.444  \n",
       "3  1.039  \n",
       "4  1.293  "
      ]
     },
     "execution_count": 14,
     "metadata": {},
     "output_type": "execute_result"
    }
   ],
   "source": [
    "df.head()"
   ]
  },
  {
   "cell_type": "code",
   "execution_count": 15,
   "metadata": {},
   "outputs": [],
   "source": [
    "from sklearn.model_selection import train_test_split\n",
    "from sklearn import preprocessing\n",
    "from sklearn.preprocessing import MinMaxScaler \n",
    "from sklearn.model_selection import cross_val_score"
   ]
  },
  {
   "cell_type": "code",
   "execution_count": 16,
   "metadata": {},
   "outputs": [],
   "source": [
    "# Dataset with imputation\n",
    "Y = df['Group'].values # Target for the model\n",
    "X = df[['M/F', 'Age', 'EDUC', 'SES', 'MMSE', 'eTIV', 'nWBV', 'ASF']] # Features we use\n",
    "\n",
    "# splitting into three sets\n",
    "X_trainval, X_test, Y_trainval, Y_test = train_test_split(\n",
    "    X, Y, random_state=0)\n",
    "\n",
    "# # Feature scaling\n",
    "scaler = MinMaxScaler().fit(X_trainval)\n",
    "X_trainval_scaled = scaler.transform(X_trainval)\n",
    "X_test_scaled = scaler.transform(X_test)"
   ]
  },
  {
   "cell_type": "code",
   "execution_count": 30,
   "metadata": {},
   "outputs": [
    {
     "name": "stdout",
     "output_type": "stream",
     "text": [
      "Epoch 1/100\n",
      "112/112 [==============================] - 0s 4ms/step - loss: 0.6932 - acc: 0.5089\n",
      "Epoch 2/100\n",
      "112/112 [==============================] - 0s 230us/step - loss: 0.6931 - acc: 0.5179\n",
      "Epoch 3/100\n",
      "112/112 [==============================] - 0s 266us/step - loss: 0.6931 - acc: 0.5179\n",
      "Epoch 4/100\n",
      "112/112 [==============================] - 0s 249us/step - loss: 0.6931 - acc: 0.5179\n",
      "Epoch 5/100\n",
      "112/112 [==============================] - 0s 323us/step - loss: 0.6931 - acc: 0.5179\n",
      "Epoch 6/100\n",
      "112/112 [==============================] - 0s 339us/step - loss: 0.6930 - acc: 0.5179\n",
      "Epoch 7/100\n",
      "112/112 [==============================] - 0s 301us/step - loss: 0.6932 - acc: 0.5179\n",
      "Epoch 8/100\n",
      "112/112 [==============================] - 0s 359us/step - loss: 0.6929 - acc: 0.5179\n",
      "Epoch 9/100\n",
      "112/112 [==============================] - 0s 277us/step - loss: 0.6929 - acc: 0.5179\n",
      "Epoch 10/100\n",
      "112/112 [==============================] - 0s 242us/step - loss: 0.6926 - acc: 0.5179\n",
      "Epoch 11/100\n",
      "112/112 [==============================] - 0s 245us/step - loss: 0.6922 - acc: 0.5179\n",
      "Epoch 12/100\n",
      "112/112 [==============================] - 0s 184us/step - loss: 0.6918 - acc: 0.5179\n",
      "Epoch 13/100\n",
      "112/112 [==============================] - 0s 207us/step - loss: 0.6909 - acc: 0.5179\n",
      "Epoch 14/100\n",
      "112/112 [==============================] - 0s 195us/step - loss: 0.6899 - acc: 0.5179\n",
      "Epoch 15/100\n",
      "112/112 [==============================] - 0s 233us/step - loss: 0.6889 - acc: 0.5179\n",
      "Epoch 16/100\n",
      "112/112 [==============================] - 0s 309us/step - loss: 0.6876 - acc: 0.5179\n",
      "Epoch 17/100\n",
      "112/112 [==============================] - 0s 187us/step - loss: 0.6853 - acc: 0.6161\n",
      "Epoch 18/100\n",
      "112/112 [==============================] - 0s 208us/step - loss: 0.6819 - acc: 0.6339\n",
      "Epoch 19/100\n",
      "112/112 [==============================] - 0s 451us/step - loss: 0.6783 - acc: 0.6429\n",
      "Epoch 20/100\n",
      "112/112 [==============================] - 0s 246us/step - loss: 0.6749 - acc: 0.6696\n",
      "Epoch 21/100\n",
      "112/112 [==============================] - 0s 299us/step - loss: 0.6697 - acc: 0.6696\n",
      "Epoch 22/100\n",
      "112/112 [==============================] - 0s 286us/step - loss: 0.6643 - acc: 0.6964\n",
      "Epoch 23/100\n",
      "112/112 [==============================] - 0s 295us/step - loss: 0.6605 - acc: 0.6786\n",
      "Epoch 24/100\n",
      "112/112 [==============================] - 0s 438us/step - loss: 0.6514 - acc: 0.6696\n",
      "Epoch 25/100\n",
      "112/112 [==============================] - 0s 358us/step - loss: 0.6482 - acc: 0.6786\n",
      "Epoch 26/100\n",
      "112/112 [==============================] - 0s 278us/step - loss: 0.6417 - acc: 0.6875\n",
      "Epoch 27/100\n",
      "112/112 [==============================] - 0s 326us/step - loss: 0.6290 - acc: 0.6964\n",
      "Epoch 28/100\n",
      "112/112 [==============================] - 0s 413us/step - loss: 0.6213 - acc: 0.6875\n",
      "Epoch 29/100\n",
      "112/112 [==============================] - 0s 269us/step - loss: 0.6156 - acc: 0.7054\n",
      "Epoch 30/100\n",
      "112/112 [==============================] - 0s 285us/step - loss: 0.6065 - acc: 0.6875\n",
      "Epoch 31/100\n",
      "112/112 [==============================] - 0s 213us/step - loss: 0.6014 - acc: 0.6964\n",
      "Epoch 32/100\n",
      "112/112 [==============================] - 0s 233us/step - loss: 0.5970 - acc: 0.6964\n",
      "Epoch 33/100\n",
      "112/112 [==============================] - 0s 257us/step - loss: 0.5861 - acc: 0.7054\n",
      "Epoch 34/100\n",
      "112/112 [==============================] - 0s 197us/step - loss: 0.5857 - acc: 0.6964\n",
      "Epoch 35/100\n",
      "112/112 [==============================] - 0s 196us/step - loss: 0.5757 - acc: 0.6964\n",
      "Epoch 36/100\n",
      "112/112 [==============================] - 0s 305us/step - loss: 0.5695 - acc: 0.7143\n",
      "Epoch 37/100\n",
      "112/112 [==============================] - 0s 210us/step - loss: 0.5694 - acc: 0.7143\n",
      "Epoch 38/100\n",
      "112/112 [==============================] - 0s 195us/step - loss: 0.5622 - acc: 0.7054\n",
      "Epoch 39/100\n",
      "112/112 [==============================] - 0s 208us/step - loss: 0.5565 - acc: 0.6964\n",
      "Epoch 40/100\n",
      "112/112 [==============================] - 0s 259us/step - loss: 0.5554 - acc: 0.7232\n",
      "Epoch 41/100\n",
      "112/112 [==============================] - 0s 229us/step - loss: 0.5478 - acc: 0.7054\n",
      "Epoch 42/100\n",
      "112/112 [==============================] - 0s 206us/step - loss: 0.5455 - acc: 0.7054\n",
      "Epoch 43/100\n",
      "112/112 [==============================] - 0s 291us/step - loss: 0.5408 - acc: 0.7143\n",
      "Epoch 44/100\n",
      "112/112 [==============================] - 0s 274us/step - loss: 0.5381 - acc: 0.7232\n",
      "Epoch 45/100\n",
      "112/112 [==============================] - 0s 244us/step - loss: 0.5387 - acc: 0.7143\n",
      "Epoch 46/100\n",
      "112/112 [==============================] - 0s 192us/step - loss: 0.5329 - acc: 0.7232\n",
      "Epoch 47/100\n",
      "112/112 [==============================] - 0s 238us/step - loss: 0.5308 - acc: 0.7321\n",
      "Epoch 48/100\n",
      "112/112 [==============================] - 0s 268us/step - loss: 0.5214 - acc: 0.7321\n",
      "Epoch 49/100\n",
      "112/112 [==============================] - 0s 166us/step - loss: 0.5339 - acc: 0.7232\n",
      "Epoch 50/100\n",
      "112/112 [==============================] - 0s 165us/step - loss: 0.5215 - acc: 0.7232\n",
      "Epoch 51/100\n",
      "112/112 [==============================] - 0s 320us/step - loss: 0.5234 - acc: 0.7232\n",
      "Epoch 52/100\n",
      "112/112 [==============================] - 0s 248us/step - loss: 0.5143 - acc: 0.7500\n",
      "Epoch 53/100\n",
      "112/112 [==============================] - 0s 174us/step - loss: 0.5151 - acc: 0.7411\n",
      "Epoch 54/100\n",
      "112/112 [==============================] - 0s 186us/step - loss: 0.5122 - acc: 0.7321\n",
      "Epoch 55/100\n",
      "112/112 [==============================] - 0s 247us/step - loss: 0.5077 - acc: 0.7321\n",
      "Epoch 56/100\n",
      "112/112 [==============================] - 0s 217us/step - loss: 0.5079 - acc: 0.7411\n",
      "Epoch 57/100\n",
      "112/112 [==============================] - 0s 169us/step - loss: 0.5078 - acc: 0.7411\n",
      "Epoch 58/100\n",
      "112/112 [==============================] - 0s 250us/step - loss: 0.5096 - acc: 0.7589\n",
      "Epoch 59/100\n",
      "112/112 [==============================] - 0s 213us/step - loss: 0.5029 - acc: 0.7411\n",
      "Epoch 60/100\n",
      "112/112 [==============================] - 0s 178us/step - loss: 0.5058 - acc: 0.7500\n",
      "Epoch 61/100\n",
      "112/112 [==============================] - 0s 173us/step - loss: 0.5020 - acc: 0.7411\n",
      "Epoch 62/100\n",
      "112/112 [==============================] - 0s 191us/step - loss: 0.5095 - acc: 0.7411\n",
      "Epoch 63/100\n",
      "112/112 [==============================] - 0s 304us/step - loss: 0.4969 - acc: 0.7679\n",
      "Epoch 64/100\n",
      "112/112 [==============================] - 0s 274us/step - loss: 0.5130 - acc: 0.7321\n",
      "Epoch 65/100\n",
      "112/112 [==============================] - 0s 233us/step - loss: 0.4915 - acc: 0.7321\n",
      "Epoch 66/100\n",
      "112/112 [==============================] - 0s 468us/step - loss: 0.5009 - acc: 0.7500\n",
      "Epoch 67/100\n",
      "112/112 [==============================] - 0s 623us/step - loss: 0.4933 - acc: 0.7411\n",
      "Epoch 68/100\n",
      "112/112 [==============================] - 0s 827us/step - loss: 0.4905 - acc: 0.7321\n",
      "Epoch 69/100\n",
      "112/112 [==============================] - 0s 382us/step - loss: 0.4944 - acc: 0.7768\n",
      "Epoch 70/100\n",
      "112/112 [==============================] - 0s 255us/step - loss: 0.4908 - acc: 0.7500\n",
      "Epoch 71/100\n",
      "112/112 [==============================] - 0s 254us/step - loss: 0.4965 - acc: 0.7500\n",
      "Epoch 72/100\n",
      "112/112 [==============================] - 0s 307us/step - loss: 0.4901 - acc: 0.7411\n",
      "Epoch 73/100\n",
      "112/112 [==============================] - 0s 305us/step - loss: 0.4899 - acc: 0.7500\n",
      "Epoch 74/100\n",
      "112/112 [==============================] - 0s 367us/step - loss: 0.4919 - acc: 0.7589\n",
      "Epoch 75/100\n",
      "112/112 [==============================] - 0s 292us/step - loss: 0.4796 - acc: 0.7679\n",
      "Epoch 76/100\n",
      "112/112 [==============================] - 0s 241us/step - loss: 0.5003 - acc: 0.7321\n",
      "Epoch 77/100\n",
      "112/112 [==============================] - 0s 242us/step - loss: 0.4828 - acc: 0.7500\n",
      "Epoch 78/100\n",
      "112/112 [==============================] - 0s 284us/step - loss: 0.4854 - acc: 0.7500\n",
      "Epoch 79/100\n",
      "112/112 [==============================] - 0s 223us/step - loss: 0.4840 - acc: 0.7589\n",
      "Epoch 80/100\n",
      "112/112 [==============================] - 0s 218us/step - loss: 0.4927 - acc: 0.7589\n",
      "Epoch 81/100\n",
      "112/112 [==============================] - 0s 179us/step - loss: 0.4856 - acc: 0.7500\n",
      "Epoch 82/100\n",
      "112/112 [==============================] - 0s 251us/step - loss: 0.5044 - acc: 0.7589\n",
      "Epoch 83/100\n",
      "112/112 [==============================] - 0s 236us/step - loss: 0.4831 - acc: 0.7857\n",
      "Epoch 84/100\n",
      "112/112 [==============================] - 0s 403us/step - loss: 0.4865 - acc: 0.7500\n",
      "Epoch 85/100\n",
      "112/112 [==============================] - 0s 378us/step - loss: 0.4801 - acc: 0.7321\n",
      "Epoch 86/100\n",
      "112/112 [==============================] - 0s 401us/step - loss: 0.4784 - acc: 0.7500\n",
      "Epoch 87/100\n",
      "112/112 [==============================] - 0s 428us/step - loss: 0.4806 - acc: 0.7232\n",
      "Epoch 88/100\n",
      "112/112 [==============================] - 0s 288us/step - loss: 0.4756 - acc: 0.7411\n",
      "Epoch 89/100\n",
      "112/112 [==============================] - 0s 210us/step - loss: 0.4832 - acc: 0.7500\n",
      "Epoch 90/100\n",
      "112/112 [==============================] - 0s 312us/step - loss: 0.4851 - acc: 0.7946\n",
      "Epoch 91/100\n",
      "112/112 [==============================] - 0s 277us/step - loss: 0.4751 - acc: 0.7679\n",
      "Epoch 92/100\n",
      "112/112 [==============================] - 0s 243us/step - loss: 0.4731 - acc: 0.7679\n",
      "Epoch 93/100\n",
      "112/112 [==============================] - 0s 202us/step - loss: 0.4781 - acc: 0.7589\n",
      "Epoch 94/100\n",
      "112/112 [==============================] - 0s 170us/step - loss: 0.4726 - acc: 0.7768\n",
      "Epoch 95/100\n",
      "112/112 [==============================] - 0s 168us/step - loss: 0.4735 - acc: 0.7589\n",
      "Epoch 96/100\n",
      "112/112 [==============================] - 0s 183us/step - loss: 0.4741 - acc: 0.7500\n",
      "Epoch 97/100\n",
      "112/112 [==============================] - 0s 170us/step - loss: 0.4753 - acc: 0.7768\n",
      "Epoch 98/100\n",
      "112/112 [==============================] - 0s 184us/step - loss: 0.4697 - acc: 0.7768\n",
      "Epoch 99/100\n",
      "112/112 [==============================] - 0s 169us/step - loss: 0.4784 - acc: 0.7589\n",
      "Epoch 100/100\n",
      "112/112 [==============================] - 0s 161us/step - loss: 0.4685 - acc: 0.7589\n",
      "[[15  3]\n",
      " [ 5 15]]\n"
     ]
    }
   ],
   "source": [
    "# Importing the Keras libraries and packages\n",
    "import keras\n",
    "from keras.models import Sequential\n",
    "from keras.layers import Dense \n",
    "\n",
    "\n",
    "model= Sequential()\n",
    "\n",
    "model.add(Dense(activation = 'relu',  input_dim = 8, units = 12, kernel_initializer = 'uniform'))\n",
    "model.add(Dense( activation = 'relu', units = 12, kernel_initializer = 'uniform'))\n",
    "model.add(Dense( activation = 'relu', units = 12, kernel_initializer = 'uniform'))\n",
    "model.add(Dense(activation = 'sigmoid', units = 1, kernel_initializer = 'uniform' ))\n",
    "\n",
    "model.compile(optimizer = 'adam', loss = 'binary_crossentropy', metrics = ['accuracy'])\n",
    "\n",
    "model.fit(X_trainval_scaled, Y_trainval, batch_size = 10, epochs = 100)\n",
    "\n",
    "y_pred = model.predict(X_test_scaled)\n",
    "y_pred = (y_pred > 0.5)\n",
    "\n",
    "# Making the Confusion Matrix\n",
    "from sklearn.metrics import confusion_matrix\n",
    "cm = confusion_matrix(Y_test, y_pred)   \n",
    "print(cm)\n"
   ]
  },
  {
   "cell_type": "code",
   "execution_count": 18,
   "metadata": {},
   "outputs": [],
   "source": [
    "# splitting into three sets\n",
    "# X_trainval_dna, X_test_dna, Y_trainval_dna, Y_test_dna = train_test_split(X, Y, random_state=0)"
   ]
  },
  {
   "cell_type": "code",
   "execution_count": 19,
   "metadata": {},
   "outputs": [],
   "source": [
    "from sklearn.linear_model import LogisticRegression\n",
    "from sklearn.svm import SVC\n",
    "from sklearn.tree import DecisionTreeClassifier\n",
    "from sklearn.ensemble import RandomForestClassifier\n",
    "from sklearn.ensemble import AdaBoostClassifier\n",
    "from sklearn.metrics import confusion_matrix, accuracy_score, recall_score, roc_curve, auc"
   ]
  },
  {
   "cell_type": "code",
   "execution_count": 20,
   "metadata": {},
   "outputs": [],
   "source": [
    "acc = [] # list to store all performance metric"
   ]
  },
  {
   "cell_type": "code",
   "execution_count": 21,
   "metadata": {},
   "outputs": [
    {
     "name": "stdout",
     "output_type": "stream",
     "text": [
      "Best accuracy on validation set is: 0.7541125541125542\n",
      "Best parameter for regularization (C) is:  10\n",
      "Test accuracy with best C parameter is 0.7894736842105263\n",
      "Test recall with the best C parameter is 0.75\n",
      "Test AUC with the best C parameter is 0.7916666666666667\n"
     ]
    }
   ],
   "source": [
    "# Dataset with imputation\n",
    "best_score=0\n",
    "kfolds=5 # set the number of folds\n",
    "\n",
    "for c in [0.001, 0.1, 1, 10, 100]:\n",
    "    logRegModel = LogisticRegression(C=c)\n",
    "    # perform cross-validation\n",
    "    scores = cross_val_score(logRegModel, X_trainval, Y_trainval, cv=kfolds, scoring='accuracy') # Get recall for each parameter setting\n",
    "    \n",
    "    # compute mean cross-validation accuracy\n",
    "    score = np.mean(scores)\n",
    "    \n",
    "    # Find the best parameters and score\n",
    "    if score > best_score:\n",
    "        best_score = score\n",
    "        best_parameters = c\n",
    "\n",
    "# rebuild a model on the combined training and validation set\n",
    "SelectedLogRegModel = LogisticRegression(C=best_parameters).fit(X_trainval_scaled, Y_trainval)\n",
    "\n",
    "test_score = SelectedLogRegModel.score(X_test_scaled, Y_test)\n",
    "PredictedOutput = SelectedLogRegModel.predict(X_test_scaled)\n",
    "test_recall = recall_score(Y_test, PredictedOutput, pos_label=1)\n",
    "fpr, tpr, thresholds = roc_curve(Y_test, PredictedOutput, pos_label=1)\n",
    "test_auc = auc(fpr, tpr)\n",
    "print(\"Best accuracy on validation set is:\", best_score)\n",
    "print(\"Best parameter for regularization (C) is: \", best_parameters)\n",
    "print(\"Test accuracy with best C parameter is\", test_score)\n",
    "print(\"Test recall with the best C parameter is\", test_recall)\n",
    "print(\"Test AUC with the best C parameter is\", test_auc)\n",
    "m = 'Logistic Regression (w/ imputation)'\n",
    "acc.append([m, test_score, test_recall, test_auc, fpr, tpr, thresholds])"
   ]
  },
  {
   "cell_type": "code",
   "execution_count": 22,
   "metadata": {},
   "outputs": [
    {
     "name": "stdout",
     "output_type": "stream",
     "text": [
      "Best accuracy on cross validation set is: 0.7715038584603802\n",
      "Best parameter for c is:  100\n",
      "Best parameter for gamma is:  0.1\n",
      "Best parameter for kernel is:  rbf\n",
      "Test accuracy with the best parameters is 0.8157894736842105\n",
      "Test recall with the best parameters is 0.7\n",
      "Test recall with the best parameter is 0.8222222222222222\n"
     ]
    }
   ],
   "source": [
    "\n",
    "\n",
    "for c_paramter in [0.001, 0.01, 0.1, 1, 10, 100, 1000]: #iterate over the values we need to try for the parameter C\n",
    "    for gamma_paramter in [0.001, 0.01, 0.1, 1, 10, 100, 1000]: #iterate over the values we need to try for the parameter gamma\n",
    "        for k_parameter in ['rbf', 'linear', 'poly', 'sigmoid']: # iterate over the values we need to try for the kernel parameter\n",
    "            svmModel = SVC(kernel=k_parameter, C=c_paramter, gamma=gamma_paramter) #define the model\n",
    "            # perform cross-validation\n",
    "            scores = cross_val_score(svmModel, X_trainval_scaled, Y_trainval, cv=kfolds, scoring='accuracy')\n",
    "            # the training set will be split internally into training and cross validation\n",
    "\n",
    "            # compute mean cross-validation accuracy\n",
    "            score = np.mean(scores)\n",
    "            # if we got a better score, store the score and parameters\n",
    "            if score > best_score:\n",
    "                best_score = score #store the score \n",
    "                best_parameter_c = c_paramter #store the parameter c\n",
    "                best_parameter_gamma = gamma_paramter #store the parameter gamma\n",
    "                best_parameter_k = k_parameter\n",
    "            \n",
    "\n",
    "# rebuild a model with best parameters to get score \n",
    "SelectedSVMmodel = SVC(C=best_parameter_c, gamma=best_parameter_gamma, kernel=best_parameter_k).fit(X_trainval_scaled, Y_trainval)\n",
    "\n",
    "test_score = SelectedSVMmodel.score(X_test_scaled, Y_test)\n",
    "PredictedOutput = SelectedSVMmodel.predict(X_test_scaled)\n",
    "test_recall = recall_score(Y_test, PredictedOutput, pos_label=1)\n",
    "fpr, tpr, thresholds = roc_curve(Y_test, PredictedOutput, pos_label=1)\n",
    "test_auc = auc(fpr, tpr)\n",
    "print(\"Best accuracy on cross validation set is:\", best_score)\n",
    "print(\"Best parameter for c is: \", best_parameter_c)\n",
    "print(\"Best parameter for gamma is: \", best_parameter_gamma)\n",
    "print(\"Best parameter for kernel is: \", best_parameter_k)\n",
    "print(\"Test accuracy with the best parameters is\", test_score)\n",
    "print(\"Test recall with the best parameters is\", test_recall)\n",
    "print(\"Test recall with the best parameter is\", test_auc)\n",
    "\n",
    "m = 'SVM'\n",
    "acc.append([m, test_score, test_recall, test_auc, fpr, tpr, thresholds])"
   ]
  },
  {
   "cell_type": "code",
   "execution_count": 23,
   "metadata": {},
   "outputs": [
    {
     "name": "stdout",
     "output_type": "stream",
     "text": [
      "Best accuracy on validation set is: 0.7785431959345004\n",
      "Best parameter for the maximum depth is:  1\n",
      "Test accuracy with best parameter is  0.8157894736842105\n",
      "Test recall with best parameters is  0.65\n",
      "Test AUC with the best parameter is  0.825\n"
     ]
    }
   ],
   "source": [
    "best_score = 0\n",
    "\n",
    "for md in range(1, 9): # iterate different maximum depth values\n",
    "    # train the model\n",
    "    treeModel = DecisionTreeClassifier(random_state=0, max_depth=md, criterion='gini')\n",
    "    # perform cross-validation\n",
    "    scores = cross_val_score(treeModel, X_trainval_scaled, Y_trainval, cv=kfolds, scoring='accuracy')\n",
    "    \n",
    "    # compute mean cross-validation accuracy\n",
    "    score = np.mean(scores)\n",
    "    \n",
    "    # if we got a better score, store the score and parameters\n",
    "    if score > best_score:\n",
    "        best_score = score\n",
    "        best_parameter = md\n",
    "\n",
    "# Rebuild a model on the combined training and validation set        \n",
    "SelectedDTModel = DecisionTreeClassifier(max_depth=best_parameter).fit(X_trainval_scaled, Y_trainval )\n",
    "\n",
    "test_score = SelectedDTModel.score(X_test_scaled, Y_test)\n",
    "PredictedOutput = SelectedDTModel.predict(X_test_scaled)\n",
    "test_recall = recall_score(Y_test, PredictedOutput, pos_label=1)\n",
    "fpr, tpr, thresholds = roc_curve(Y_test, PredictedOutput, pos_label=1)\n",
    "test_auc = auc(fpr, tpr)\n",
    "print(\"Best accuracy on validation set is:\", best_score)\n",
    "print(\"Best parameter for the maximum depth is: \", best_parameter)\n",
    "print(\"Test accuracy with best parameter is \", test_score)\n",
    "print(\"Test recall with best parameters is \", test_recall)\n",
    "print(\"Test AUC with the best parameter is \", test_auc)\n",
    "\n",
    "m = 'Decision Tree'\n",
    "acc.append([m, test_score, test_recall, test_auc, fpr, tpr, thresholds])"
   ]
  },
  {
   "cell_type": "code",
   "execution_count": 24,
   "metadata": {},
   "outputs": [
    {
     "name": "stdout",
     "output_type": "stream",
     "text": [
      "Feature importance: \n"
     ]
    },
    {
     "data": {
      "text/plain": [
       "array([['M/F', '0.0'],\n",
       "       ['Age', '0.0'],\n",
       "       ['EDUC', '0.0'],\n",
       "       ['SES', '0.0'],\n",
       "       ['MMSE', '1.0'],\n",
       "       ['eTIV', '0.0'],\n",
       "       ['nWBV', '0.0'],\n",
       "       ['ASF', '0.0']], dtype='<U4')"
      ]
     },
     "execution_count": 24,
     "metadata": {},
     "output_type": "execute_result"
    }
   ],
   "source": [
    "print(\"Feature importance: \")\n",
    "np.array([X.columns.values.tolist(), list(SelectedDTModel.feature_importances_)]).T"
   ]
  },
  {
   "cell_type": "code",
   "execution_count": 25,
   "metadata": {},
   "outputs": [],
   "source": [
    "# from sklearn.tree import export_graphviz"
   ]
  },
  {
   "cell_type": "code",
   "execution_count": 26,
   "metadata": {},
   "outputs": [
    {
     "name": "stdout",
     "output_type": "stream",
     "text": [
      "Best accuracy on validation set is: 0.7963297571993225\n",
      "Best parameters of M, d, m are:  14 5 7\n",
      "Test accuracy with the best parameters is 0.8421052631578947\n",
      "Test recall with the best parameters is: 0.8\n",
      "Test AUC with the best parameters is: 0.8444444444444443\n"
     ]
    }
   ],
   "source": [
    "best_score = 0\n",
    "\n",
    "for M in range(2, 15, 2): # combines M trees\n",
    "    for d in range(1, 9): # maximum number of features considered at each split\n",
    "        for m in range(1, 9): # maximum depth of the tree\n",
    "            # train the model\n",
    "            # n_jobs(4) is the number of parallel computing\n",
    "            forestModel = RandomForestClassifier(n_estimators=M, max_features=d, n_jobs=4,\n",
    "                                          max_depth=m, random_state=0)\n",
    "        \n",
    "            # perform cross-validation\n",
    "            scores = cross_val_score(forestModel, X_trainval_scaled, Y_trainval, cv=kfolds, scoring='accuracy')\n",
    "\n",
    "            # compute mean cross-validation accuracy\n",
    "            score = np.mean(scores)\n",
    "\n",
    "            # if we got a better score, store the score and parameters\n",
    "            if score > best_score:\n",
    "                best_score = score\n",
    "                best_M = M\n",
    "                best_d = d\n",
    "                best_m = m\n",
    "\n",
    "# Rebuild a model on the combined training and validation set        \n",
    "SelectedRFModel = RandomForestClassifier(n_estimators=M, max_features=d,\n",
    "                                          max_depth=m, random_state=0).fit(X_trainval_scaled, Y_trainval )\n",
    "\n",
    "PredictedOutput = SelectedRFModel.predict(X_test_scaled)\n",
    "test_score = SelectedRFModel.score(X_test_scaled, Y_test)\n",
    "test_recall = recall_score(Y_test, PredictedOutput, pos_label=1)\n",
    "fpr, tpr, thresholds = roc_curve(Y_test, PredictedOutput, pos_label=1)\n",
    "test_auc = auc(fpr, tpr)\n",
    "print(\"Best accuracy on validation set is:\", best_score)\n",
    "print(\"Best parameters of M, d, m are: \", best_M, best_d, best_m)\n",
    "print(\"Test accuracy with the best parameters is\", test_score)\n",
    "print(\"Test recall with the best parameters is:\", test_recall)\n",
    "print(\"Test AUC with the best parameters is:\", test_auc)\n",
    "\n",
    "m = 'Random Forest'\n",
    "acc.append([m, test_score, test_recall, test_auc, fpr, tpr, thresholds])"
   ]
  },
  {
   "cell_type": "code",
   "execution_count": 29,
   "metadata": {},
   "outputs": [
    {
     "name": "stdout",
     "output_type": "stream",
     "text": [
      "Feature importance: \n"
     ]
    },
    {
     "data": {
      "text/plain": [
       "array([['M/F', '0.03503132427481025'],\n",
       "       ['Age', '0.09551237125526228'],\n",
       "       ['EDUC', '0.06261556797214127'],\n",
       "       ['SES', '0.060620327518549066'],\n",
       "       ['MMSE', '0.4006565962793097'],\n",
       "       ['eTIV', '0.07005497528287095'],\n",
       "       ['nWBV', '0.1460571117936201'],\n",
       "       ['ASF', '0.1294517256234364']], dtype='<U20')"
      ]
     },
     "execution_count": 29,
     "metadata": {},
     "output_type": "execute_result"
    }
   ],
   "source": [
    "print(\"Feature importance: \")\n",
    "np.array([X.columns.values.tolist(), list(SelectedRFModel.feature_importances_)]).T"
   ]
  },
  {
   "cell_type": "code",
   "execution_count": 28,
   "metadata": {},
   "outputs": [
    {
     "name": "stdout",
     "output_type": "stream",
     "text": [
      "Best accuracy on validation set is: 0.7785431959345004\n",
      "Best parameter of M is:  2\n",
      "best parameter of LR is:  0.0001\n",
      "Test accuracy with the best parameter is 0.8421052631578947\n",
      "Test recall with the best parameters is: 0.65\n",
      "Test AUC with the best parameters is: 0.825\n"
     ]
    }
   ],
   "source": [
    "best_score = 0\n",
    "\n",
    "for M in range(2, 15, 2): # combines M trees\n",
    "    for lr in [0.0001, 0.001, 0.01, 0.1, 1]:\n",
    "        # train the model\n",
    "        boostModel = AdaBoostClassifier(n_estimators=M, learning_rate=lr, random_state=0)\n",
    "\n",
    "        # perform cross-validation\n",
    "        scores = cross_val_score(boostModel, X_trainval_scaled, Y_trainval, cv=kfolds, scoring='accuracy')\n",
    "\n",
    "        # compute mean cross-validation accuracy\n",
    "        score = np.mean(scores)\n",
    "\n",
    "        # if we got a better score, store the score and parameters\n",
    "        if score > best_score:\n",
    "            best_score = score\n",
    "            best_M = M\n",
    "            best_lr = lr\n",
    "\n",
    "# Rebuild a model on the combined training and validation set        \n",
    "SelectedBoostModel = AdaBoostClassifier(n_estimators=M, learning_rate=lr, random_state=0).fit(X_trainval_scaled, Y_trainval )\n",
    "\n",
    "PredictedOutput = SelectedBoostModel.predict(X_test_scaled)\n",
    "test_score = SelectedRFModel.score(X_test_scaled, Y_test)\n",
    "test_recall = recall_score(Y_test, PredictedOutput, pos_label=1)\n",
    "fpr, tpr, thresholds = roc_curve(Y_test, PredictedOutput, pos_label=1)\n",
    "test_auc = auc(fpr, tpr)\n",
    "print(\"Best accuracy on validation set is:\", best_score)\n",
    "print(\"Best parameter of M is: \", best_M)\n",
    "print(\"best parameter of LR is: \", best_lr)\n",
    "print(\"Test accuracy with the best parameter is\", test_score)\n",
    "print(\"Test recall with the best parameters is:\", test_recall)\n",
    "print(\"Test AUC with the best parameters is:\", test_auc)\n",
    "\n",
    "m = 'AdaBoost'\n",
    "acc.append([m, test_score, test_recall, test_auc, fpr, tpr, thresholds])"
   ]
  },
  {
   "cell_type": "code",
   "execution_count": 32,
   "metadata": {
    "scrolled": true
   },
   "outputs": [
    {
     "name": "stdout",
     "output_type": "stream",
     "text": [
      "Feature importance: \n"
     ]
    },
    {
     "data": {
      "text/plain": [
       "array([['M/F', '0.07142857142857142'],\n",
       "       ['Age', '0.14285714285714285'],\n",
       "       ['EDUC', '0.21428571428571427'],\n",
       "       ['SES', '0.07142857142857142'],\n",
       "       ['MMSE', '0.14285714285714285'],\n",
       "       ['eTIV', '0.21428571428571427'],\n",
       "       ['nWBV', '0.14285714285714285'],\n",
       "       ['ASF', '0.0']], dtype='<U19')"
      ]
     },
     "execution_count": 32,
     "metadata": {},
     "output_type": "execute_result"
    }
   ],
   "source": [
    "print(\"Feature importance: \")\n",
    "np.array([X.columns.values.tolist(), list(SelectedBoostModel.feature_importances_)]).T"
   ]
  },
  {
   "cell_type": "code",
   "execution_count": 29,
   "metadata": {
    "scrolled": true
   },
   "outputs": [
    {
     "data": {
      "text/html": [
       "<div>\n",
       "<style scoped>\n",
       "    .dataframe tbody tr th:only-of-type {\n",
       "        vertical-align: middle;\n",
       "    }\n",
       "\n",
       "    .dataframe tbody tr th {\n",
       "        vertical-align: top;\n",
       "    }\n",
       "\n",
       "    .dataframe thead th {\n",
       "        text-align: right;\n",
       "    }\n",
       "</style>\n",
       "<table border=\"1\" class=\"dataframe\">\n",
       "  <thead>\n",
       "    <tr style=\"text-align: right;\">\n",
       "      <th></th>\n",
       "      <th>Model</th>\n",
       "      <th>Accuracy</th>\n",
       "      <th>Recall</th>\n",
       "      <th>AUC</th>\n",
       "    </tr>\n",
       "  </thead>\n",
       "  <tbody>\n",
       "    <tr>\n",
       "      <th>0</th>\n",
       "      <td>Logistic Regression (w/ imputation)</td>\n",
       "      <td>0.789474</td>\n",
       "      <td>0.75</td>\n",
       "      <td>0.791667</td>\n",
       "    </tr>\n",
       "    <tr>\n",
       "      <th>1</th>\n",
       "      <td>SVM</td>\n",
       "      <td>0.815789</td>\n",
       "      <td>0.70</td>\n",
       "      <td>0.822222</td>\n",
       "    </tr>\n",
       "    <tr>\n",
       "      <th>2</th>\n",
       "      <td>Decision Tree</td>\n",
       "      <td>0.815789</td>\n",
       "      <td>0.65</td>\n",
       "      <td>0.825000</td>\n",
       "    </tr>\n",
       "    <tr>\n",
       "      <th>3</th>\n",
       "      <td>Random Forest</td>\n",
       "      <td>0.842105</td>\n",
       "      <td>0.80</td>\n",
       "      <td>0.844444</td>\n",
       "    </tr>\n",
       "    <tr>\n",
       "      <th>4</th>\n",
       "      <td>AdaBoost</td>\n",
       "      <td>0.842105</td>\n",
       "      <td>0.65</td>\n",
       "      <td>0.825000</td>\n",
       "    </tr>\n",
       "  </tbody>\n",
       "</table>\n",
       "</div>"
      ],
      "text/plain": [
       "                                 Model  Accuracy  Recall       AUC\n",
       "0  Logistic Regression (w/ imputation)  0.789474    0.75  0.791667\n",
       "1                                  SVM  0.815789    0.70  0.822222\n",
       "2                        Decision Tree  0.815789    0.65  0.825000\n",
       "3                        Random Forest  0.842105    0.80  0.844444\n",
       "4                             AdaBoost  0.842105    0.65  0.825000"
      ]
     },
     "execution_count": 29,
     "metadata": {},
     "output_type": "execute_result"
    }
   ],
   "source": [
    "# Performance Metric for each model\n",
    "result = pd.DataFrame(acc, columns=['Model', 'Accuracy', 'Recall', 'AUC', 'FPR', 'TPR', 'TH'])\n",
    "result[['Model', 'Accuracy', 'Recall', 'AUC']]"
   ]
  },
  {
   "cell_type": "code",
   "execution_count": null,
   "metadata": {},
   "outputs": [],
   "source": []
  }
 ],
 "metadata": {
  "kernelspec": {
   "display_name": "Python 3",
   "language": "python",
   "name": "python3"
  },
  "language_info": {
   "codemirror_mode": {
    "name": "ipython",
    "version": 3
   },
   "file_extension": ".py",
   "mimetype": "text/x-python",
   "name": "python",
   "nbconvert_exporter": "python",
   "pygments_lexer": "ipython3",
   "version": "3.6.5"
  }
 },
 "nbformat": 4,
 "nbformat_minor": 2
}
